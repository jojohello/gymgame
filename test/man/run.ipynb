{
 "cells": [
  {
   "cell_type": "code",
   "execution_count": null,
   "metadata": {
    "scrolled": false
   },
   "outputs": [],
   "source": [
    "import man\n",
    "man.run(render=True)"
   ]
  },
  {
   "cell_type": "code",
   "execution_count": null,
   "metadata": {},
   "outputs": [],
   "source": [
    "import man_keyboard\n",
    "man_keyboard.run(True)"
   ]
  },
  {
   "cell_type": "code",
   "execution_count": null,
   "metadata": {
    "scrolled": false
   },
   "outputs": [],
   "source": [
    "import man_record\n",
    "man_record.record(True)"
   ]
  },
  {
   "cell_type": "code",
   "execution_count": 1,
   "metadata": {},
   "outputs": [
    {
     "name": "stderr",
     "output_type": "stream",
     "text": [
      "[2017-07-12 17:37:53,347] Making new env: tiny-rpg-man-v0\n"
     ]
    },
    {
     "data": {
      "text/html": [
       "\n",
       "    <div class=\"bk-root\">\n",
       "        <a href=\"http://bokeh.pydata.org\" target=\"_blank\" class=\"bk-logo bk-logo-small bk-logo-notebook\"></a>\n",
       "        <span id=\"70b1304c-9d98-4e90-90d7-64c72c779089\">Loading BokehJS ...</span>\n",
       "    </div>"
      ]
     },
     "metadata": {},
     "output_type": "execute_result"
    },
    {
     "data": {},
     "metadata": {},
     "output_type": "display_data"
    },
    {
     "data": {
      "text/html": [
       "\n",
       "\n",
       "    <div class=\"bk-root\">\n",
       "        <div class=\"bk-plotdiv\" id=\"ccde7bdc-31e4-4aa7-94b9-f0f0232d7eb0\"></div>\n",
       "    </div>\n",
       "<script type=\"text/javascript\">\n",
       "  \n",
       "  (function(global) {\n",
       "    function now() {\n",
       "      return new Date();\n",
       "    }\n",
       "  \n",
       "    var force = false;\n",
       "  \n",
       "    if (typeof (window._bokeh_onload_callbacks) === \"undefined\" || force === true) {\n",
       "      window._bokeh_onload_callbacks = [];\n",
       "      window._bokeh_is_loading = undefined;\n",
       "    }\n",
       "  \n",
       "  \n",
       "    \n",
       "    if (typeof (window._bokeh_timeout) === \"undefined\" || force === true) {\n",
       "      window._bokeh_timeout = Date.now() + 0;\n",
       "      window._bokeh_failed_load = false;\n",
       "    }\n",
       "  \n",
       "    var NB_LOAD_WARNING = {'data': {'text/html':\n",
       "       \"<div style='background-color: #fdd'>\\n\"+\n",
       "       \"<p>\\n\"+\n",
       "       \"BokehJS does not appear to have successfully loaded. If loading BokehJS from CDN, this \\n\"+\n",
       "       \"may be due to a slow or bad network connection. Possible fixes:\\n\"+\n",
       "       \"</p>\\n\"+\n",
       "       \"<ul>\\n\"+\n",
       "       \"<li>re-rerun `output_notebook()` to attempt to load from CDN again, or</li>\\n\"+\n",
       "       \"<li>use INLINE resources instead, as so:</li>\\n\"+\n",
       "       \"</ul>\\n\"+\n",
       "       \"<code>\\n\"+\n",
       "       \"from bokeh.resources import INLINE\\n\"+\n",
       "       \"output_notebook(resources=INLINE)\\n\"+\n",
       "       \"</code>\\n\"+\n",
       "       \"</div>\"}};\n",
       "  \n",
       "    function display_loaded() {\n",
       "      if (window.Bokeh !== undefined) {\n",
       "        var el = document.getElementById(\"ccde7bdc-31e4-4aa7-94b9-f0f0232d7eb0\");\n",
       "        el.textContent = \"BokehJS \" + Bokeh.version + \" successfully loaded.\";\n",
       "      } else if (Date.now() < window._bokeh_timeout) {\n",
       "        setTimeout(display_loaded, 100)\n",
       "      }\n",
       "    }if ((window.Jupyter !== undefined) && Jupyter.notebook.kernel) {\n",
       "      comm_manager = Jupyter.notebook.kernel.comm_manager\n",
       "      comm_manager.register_target(\"63fb13df-9bcb-42d0-961c-0ba084d19828\", function () {});\n",
       "    }\n",
       "  \n",
       "    function run_callbacks() {\n",
       "      try {\n",
       "        window._bokeh_onload_callbacks.forEach(function(callback) { callback() });\n",
       "      }\n",
       "      finally {\n",
       "        delete window._bokeh_onload_callbacks\n",
       "      }\n",
       "      console.info(\"Bokeh: all callbacks have finished\");\n",
       "    }\n",
       "  \n",
       "    function load_libs(js_urls, callback) {\n",
       "      window._bokeh_onload_callbacks.push(callback);\n",
       "      if (window._bokeh_is_loading > 0) {\n",
       "        console.log(\"Bokeh: BokehJS is being loaded, scheduling callback at\", now());\n",
       "        return null;\n",
       "      }\n",
       "      if (js_urls == null || js_urls.length === 0) {\n",
       "        run_callbacks();\n",
       "        return null;\n",
       "      }\n",
       "      console.log(\"Bokeh: BokehJS not loaded, scheduling load and callback at\", now());\n",
       "      window._bokeh_is_loading = js_urls.length;\n",
       "      for (var i = 0; i < js_urls.length; i++) {\n",
       "        var url = js_urls[i];\n",
       "        var s = document.createElement('script');\n",
       "        s.src = url;\n",
       "        s.async = false;\n",
       "        s.onreadystatechange = s.onload = function() {\n",
       "          window._bokeh_is_loading--;\n",
       "          if (window._bokeh_is_loading === 0) {\n",
       "            console.log(\"Bokeh: all BokehJS libraries loaded\");\n",
       "            run_callbacks()\n",
       "          }\n",
       "        };\n",
       "        s.onerror = function() {\n",
       "          console.warn(\"failed to load library \" + url);\n",
       "        };\n",
       "        console.log(\"Bokeh: injecting script tag for BokehJS library: \", url);\n",
       "        document.getElementsByTagName(\"head\")[0].appendChild(s);\n",
       "      }\n",
       "    };var element = document.getElementById(\"ccde7bdc-31e4-4aa7-94b9-f0f0232d7eb0\");\n",
       "    if (element == null) {\n",
       "      console.log(\"Bokeh: ERROR: autoload.js configured with elementid 'ccde7bdc-31e4-4aa7-94b9-f0f0232d7eb0' but no matching script tag was found. \")\n",
       "      return false;\n",
       "    }\n",
       "  \n",
       "    var js_urls = [];\n",
       "  \n",
       "    var inline_js = [\n",
       "      function(Bokeh) {\n",
       "        (function() {\n",
       "          var fn = function() {\n",
       "            var docs_json = {\"b609b779-d625-4265-a992-a89d246244de\":{\"roots\":{\"references\":[{\"attributes\":{\"children\":[{\"id\":\"2f42c1ba-47bc-4737-8fb5-84088adc0b43\",\"type\":\"Row\"}]},\"id\":\"e9bf7123-41e9-4223-8f10-7d601ff2e27b\",\"type\":\"Column\"},{\"attributes\":{\"formatter\":{\"id\":\"48872ed2-48c1-48c9-9e27-3011bb1984ed\",\"type\":\"BasicTickFormatter\"},\"plot\":{\"id\":\"f8f1bd5b-4ba4-4a06-9e54-145fe93745a2\",\"subtype\":\"Figure\",\"type\":\"Plot\"},\"ticker\":{\"id\":\"f3948d62-6e3e-4b01-a4fb-cc2f3540097c\",\"type\":\"BasicTicker\"}},\"id\":\"d6210d73-d9b1-4eb1-8d2e-668f2ea319fd\",\"type\":\"LinearAxis\"},{\"attributes\":{\"dimension\":1,\"plot\":{\"id\":\"c7000278-b6f2-4253-bf6a-fb423bbd0d79\",\"subtype\":\"Figure\",\"type\":\"Plot\"},\"ticker\":{\"id\":\"30905753-f5ba-48e3-a9f0-205602757b49\",\"type\":\"BasicTicker\"}},\"id\":\"55888bc5-1a17-481c-b0d3-1db6a770ae0a\",\"type\":\"Grid\"},{\"attributes\":{\"plot\":{\"id\":\"f8f1bd5b-4ba4-4a06-9e54-145fe93745a2\",\"subtype\":\"Figure\",\"type\":\"Plot\"}},\"id\":\"a3b5e9cb-f241-40e7-bb32-c23090b0bef7\",\"type\":\"PanTool\"},{\"attributes\":{},\"id\":\"229e204c-a230-49e0-ae36-aae89f45f532\",\"type\":\"BasicTicker\"},{\"attributes\":{\"data_source\":{\"id\":\"93d69577-b3df-409c-98aa-f94564d7799c\",\"type\":\"ColumnDataSource\"},\"glyph\":{\"id\":\"d9befe33-7ccb-4c87-b064-76aa9ffeead0\",\"type\":\"Line\"},\"hover_glyph\":null,\"muted_glyph\":null,\"nonselection_glyph\":{\"id\":\"1306a522-7ef1-47a1-a0d8-1cb4273efc7a\",\"type\":\"Line\"},\"selection_glyph\":null},\"id\":\"01a427df-4e1a-44dd-8c61-cf9715c30db8\",\"type\":\"GlyphRenderer\"},{\"attributes\":{\"callback\":null,\"column_names\":[\"radius\",\"line_width\",\"x\",\"y\",\"fill_color\"],\"data\":{\"fill_color\":[\"green\",\"firebrick\",\"firebrick\",\"firebrick\",\"firebrick\",\"firebrick\",\"firebrick\",\"firebrick\",\"firebrick\",\"firebrick\",\"firebrick\",\"firebrick\",\"firebrick\",\"firebrick\",\"firebrick\",\"firebrick\",\"firebrick\",\"firebrick\",\"firebrick\",\"firebrick\",\"firebrick\",\"firebrick\",\"firebrick\",\"firebrick\",\"firebrick\",\"firebrick\",\"firebrick\",\"firebrick\",\"firebrick\",\"firebrick\",\"firebrick\",\"firebrick\",\"firebrick\",\"firebrick\",\"firebrick\",\"firebrick\",\"firebrick\",\"firebrick\",\"firebrick\",\"firebrick\",\"firebrick\"],\"line_width\":[2,1,1,1,1,1,1,1,1,1,1,1,1,1,1,1,1,1,1,1,1,1,1,1,1,1,1,1,1,1,1,1,1,1,1,1,1,1,1,1,1],\"radius\":[0.3,0.1,0.1,0.1,0.1,0.1,0.1,0.1,0.1,0.1,0.1,0.1,0.1,0.1,0.1,0.1,0.1,0.1,0.1,0.1,0.1,0.1,0.1,0.1,0.1,0.1,0.1,0.1,0.1,0.1,0.1,0.1,0.1,0.1,0.1,0.1,0.1,0.1,0.1,0.1,0.1],\"x\":[-1,-1,-1,-1,-1,-1,-1,-1,-1,-1,-1,-1,-1,-1,-1,-1,-1,-1,-1,-1,-1,-1,-1,-1,-1,-1,-1,-1,-1,-1,-1,-1,-1,-1,-1,-1,-1,-1,-1,-1,-1],\"y\":[-1,-1,-1,-1,-1,-1,-1,-1,-1,-1,-1,-1,-1,-1,-1,-1,-1,-1,-1,-1,-1,-1,-1,-1,-1,-1,-1,-1,-1,-1,-1,-1,-1,-1,-1,-1,-1,-1,-1,-1,-1]}},\"id\":\"25c2aa2c-f1a7-4985-bb7a-247a3b9a9693\",\"type\":\"ColumnDataSource\"},{\"attributes\":{\"plot\":{\"id\":\"f8f1bd5b-4ba4-4a06-9e54-145fe93745a2\",\"subtype\":\"Figure\",\"type\":\"Plot\"}},\"id\":\"c6782490-ba39-462e-b7ec-fdfa55407ccd\",\"type\":\"WheelZoomTool\"},{\"attributes\":{},\"id\":\"c4b16e41-8022-48ae-a9af-61d7f4c1d567\",\"type\":\"BasicTicker\"},{\"attributes\":{\"active_drag\":\"auto\",\"active_inspect\":\"auto\",\"active_scroll\":\"auto\",\"active_tap\":\"auto\",\"tools\":[{\"id\":\"a3b5e9cb-f241-40e7-bb32-c23090b0bef7\",\"type\":\"PanTool\"},{\"id\":\"c6782490-ba39-462e-b7ec-fdfa55407ccd\",\"type\":\"WheelZoomTool\"},{\"id\":\"5f4f82c8-18a6-4063-bbf8-52ecd3f8e3f4\",\"type\":\"BoxZoomTool\"},{\"id\":\"e894dac0-087e-4444-bddd-6a76114289d5\",\"type\":\"SaveTool\"},{\"id\":\"970b5ab5-49c6-4727-be34-13dab9726c30\",\"type\":\"ResetTool\"},{\"id\":\"f302368a-4d45-42d1-8a39-94cca2256335\",\"type\":\"HelpTool\"}]},\"id\":\"6850e33c-2385-4021-9458-5375e74a917d\",\"type\":\"Toolbar\"},{\"attributes\":{},\"id\":\"450c26d8-0a90-41aa-a823-47cf675c464c\",\"type\":\"BasicTickFormatter\"},{\"attributes\":{\"children\":[{\"id\":\"c7000278-b6f2-4253-bf6a-fb423bbd0d79\",\"subtype\":\"Figure\",\"type\":\"Plot\"},{\"id\":\"f8f1bd5b-4ba4-4a06-9e54-145fe93745a2\",\"subtype\":\"Figure\",\"type\":\"Plot\"}]},\"id\":\"2f42c1ba-47bc-4737-8fb5-84088adc0b43\",\"type\":\"Row\"},{\"attributes\":{\"overlay\":{\"id\":\"514976bb-961d-49d7-a209-3091979776ee\",\"type\":\"BoxAnnotation\"},\"plot\":{\"id\":\"c7000278-b6f2-4253-bf6a-fb423bbd0d79\",\"subtype\":\"Figure\",\"type\":\"Plot\"}},\"id\":\"8944651c-59e4-4408-b21c-524a6ac7e171\",\"type\":\"BoxZoomTool\"},{\"attributes\":{\"callback\":null,\"column_names\":[\"x\",\"y\"],\"data\":{\"x\":[0,10,10,0,0],\"y\":[0,0,10,10,0]}},\"id\":\"030b5e84-1644-4acd-a501-4a821e760087\",\"type\":\"ColumnDataSource\"},{\"attributes\":{},\"id\":\"48872ed2-48c1-48c9-9e27-3011bb1984ed\",\"type\":\"BasicTickFormatter\"},{\"attributes\":{},\"id\":\"8fb08b4c-a15c-4ce7-8c26-8e7a9f66d395\",\"type\":\"BasicTickFormatter\"},{\"attributes\":{\"plot\":{\"id\":\"c7000278-b6f2-4253-bf6a-fb423bbd0d79\",\"subtype\":\"Figure\",\"type\":\"Plot\"}},\"id\":\"aaabbf66-dd58-4889-bd92-bc33d0f81803\",\"type\":\"ResetTool\"},{\"attributes\":{},\"id\":\"0b9664fd-38ec-470a-a222-374f2bb66f41\",\"type\":\"ToolEvents\"},{\"attributes\":{\"plot\":{\"id\":\"f8f1bd5b-4ba4-4a06-9e54-145fe93745a2\",\"subtype\":\"Figure\",\"type\":\"Plot\"}},\"id\":\"f302368a-4d45-42d1-8a39-94cca2256335\",\"type\":\"HelpTool\"},{\"attributes\":{\"bottom_units\":\"screen\",\"fill_alpha\":{\"value\":0.5},\"fill_color\":{\"value\":\"lightgrey\"},\"left_units\":\"screen\",\"level\":\"overlay\",\"line_alpha\":{\"value\":1.0},\"line_color\":{\"value\":\"black\"},\"line_dash\":[4,4],\"line_width\":{\"value\":2},\"plot\":null,\"render_mode\":\"css\",\"right_units\":\"screen\",\"top_units\":\"screen\"},\"id\":\"72235cd6-e553-48eb-874c-f9d4491283af\",\"type\":\"BoxAnnotation\"},{\"attributes\":{},\"id\":\"8a98adc7-b353-409e-8157-f4e2f81193b6\",\"type\":\"LinearScale\"},{\"attributes\":{\"callback\":null,\"end\":11.0,\"start\":-1.0},\"id\":\"823e083e-9d09-447d-bd1a-7dbe782b614d\",\"type\":\"Range1d\"},{\"attributes\":{\"plot\":{\"id\":\"c7000278-b6f2-4253-bf6a-fb423bbd0d79\",\"subtype\":\"Figure\",\"type\":\"Plot\"},\"ticker\":{\"id\":\"229e204c-a230-49e0-ae36-aae89f45f532\",\"type\":\"BasicTicker\"}},\"id\":\"1cdab219-a2b8-43e4-b287-6e1d7ce17c1f\",\"type\":\"Grid\"},{\"attributes\":{\"plot\":{\"id\":\"c7000278-b6f2-4253-bf6a-fb423bbd0d79\",\"subtype\":\"Figure\",\"type\":\"Plot\"}},\"id\":\"353d0b82-b734-489a-9b19-143a5f411551\",\"type\":\"WheelZoomTool\"},{\"attributes\":{\"formatter\":{\"id\":\"450c26d8-0a90-41aa-a823-47cf675c464c\",\"type\":\"BasicTickFormatter\"},\"plot\":{\"id\":\"f8f1bd5b-4ba4-4a06-9e54-145fe93745a2\",\"subtype\":\"Figure\",\"type\":\"Plot\"},\"ticker\":{\"id\":\"c4b16e41-8022-48ae-a9af-61d7f4c1d567\",\"type\":\"BasicTicker\"}},\"id\":\"f23ab148-2824-4ca9-a9ef-560a407dfbc2\",\"type\":\"LinearAxis\"},{\"attributes\":{\"plot\":{\"id\":\"f8f1bd5b-4ba4-4a06-9e54-145fe93745a2\",\"subtype\":\"Figure\",\"type\":\"Plot\"},\"ticker\":{\"id\":\"f3948d62-6e3e-4b01-a4fb-cc2f3540097c\",\"type\":\"BasicTicker\"}},\"id\":\"ba4813cb-62eb-4114-a2a2-d1adf8c6dc2f\",\"type\":\"Grid\"},{\"attributes\":{\"line_color\":{\"value\":\"#1f77b4\"},\"line_width\":{\"value\":2},\"x\":{\"field\":\"x\"},\"y\":{\"field\":\"y\"}},\"id\":\"d9befe33-7ccb-4c87-b064-76aa9ffeead0\",\"type\":\"Line\"},{\"attributes\":{\"callback\":null,\"end\":11.0,\"start\":-1.0},\"id\":\"0e233739-1009-439f-bbb4-024ce55223db\",\"type\":\"Range1d\"},{\"attributes\":{},\"id\":\"e0d4ff95-5d22-4c50-9efc-280f0afdfac3\",\"type\":\"BasicTickFormatter\"},{\"attributes\":{},\"id\":\"bcfac477-3c57-42e4-b38e-778f236e182d\",\"type\":\"ToolEvents\"},{\"attributes\":{\"callback\":null},\"id\":\"268b65f1-2bca-4e8a-9792-497a9f41da90\",\"type\":\"DataRange1d\"},{\"attributes\":{\"line_alpha\":{\"value\":0.3},\"line_color\":{\"value\":\"navy\"},\"line_dash\":[2,4],\"line_width\":{\"value\":2},\"x\":{\"field\":\"x\"},\"y\":{\"field\":\"y\"}},\"id\":\"179e3364-b5ba-44c9-8e47-01743cfc26b5\",\"type\":\"Line\"},{\"attributes\":{\"data_source\":{\"id\":\"25c2aa2c-f1a7-4985-bb7a-247a3b9a9693\",\"type\":\"ColumnDataSource\"},\"glyph\":{\"id\":\"ecc049f2-ca9e-4540-99b2-19ca9273aa99\",\"type\":\"Circle\"},\"hover_glyph\":null,\"muted_glyph\":null,\"nonselection_glyph\":{\"id\":\"b43621d7-5601-473a-aa34-8a123a8b239b\",\"type\":\"Circle\"},\"selection_glyph\":null},\"id\":\"1b64c21c-8308-4839-ba47-5fe2ed2316d5\",\"type\":\"GlyphRenderer\"},{\"attributes\":{\"overlay\":{\"id\":\"72235cd6-e553-48eb-874c-f9d4491283af\",\"type\":\"BoxAnnotation\"},\"plot\":{\"id\":\"f8f1bd5b-4ba4-4a06-9e54-145fe93745a2\",\"subtype\":\"Figure\",\"type\":\"Plot\"}},\"id\":\"5f4f82c8-18a6-4063-bbf8-52ecd3f8e3f4\",\"type\":\"BoxZoomTool\"},{\"attributes\":{\"children\":[{\"id\":\"0ec79e10-09ab-4ea4-b7bc-a4e169c69169\",\"type\":\"ToolbarBox\"},{\"id\":\"e9bf7123-41e9-4223-8f10-7d601ff2e27b\",\"type\":\"Column\"}]},\"id\":\"83a01efd-e18c-4dae-80b8-aef0b14bb7d5\",\"type\":\"Column\"},{\"attributes\":{\"data_source\":{\"id\":\"030b5e84-1644-4acd-a501-4a821e760087\",\"type\":\"ColumnDataSource\"},\"glyph\":{\"id\":\"179e3364-b5ba-44c9-8e47-01743cfc26b5\",\"type\":\"Line\"},\"hover_glyph\":null,\"muted_glyph\":null,\"nonselection_glyph\":{\"id\":\"542bc7c8-37fa-475b-8a65-a8d49bf90c34\",\"type\":\"Line\"},\"selection_glyph\":null},\"id\":\"dbf4a1fd-a533-47d3-a15e-db3636d8f036\",\"type\":\"GlyphRenderer\"},{\"attributes\":{\"line_alpha\":{\"value\":0.1},\"line_color\":{\"value\":\"#1f77b4\"},\"line_dash\":[2,4],\"line_width\":{\"value\":2},\"x\":{\"field\":\"x\"},\"y\":{\"field\":\"y\"}},\"id\":\"542bc7c8-37fa-475b-8a65-a8d49bf90c34\",\"type\":\"Line\"},{\"attributes\":{\"align\":\"center\",\"background_fill_color\":{\"value\":\"black\"},\"plot\":null,\"text\":\"running ep reward: \",\"text_color\":{\"value\":\"green\"},\"text_font_size\":{\"value\":\"20px\"}},\"id\":\"bc104d32-601b-4251-9204-734d0b18f85f\",\"type\":\"Title\"},{\"attributes\":{\"plot\":{\"id\":\"c7000278-b6f2-4253-bf6a-fb423bbd0d79\",\"subtype\":\"Figure\",\"type\":\"Plot\"}},\"id\":\"9e3d3091-4c67-4f1f-9601-331a6094f21c\",\"type\":\"HelpTool\"},{\"attributes\":{\"formatter\":{\"id\":\"8fb08b4c-a15c-4ce7-8c26-8e7a9f66d395\",\"type\":\"BasicTickFormatter\"},\"plot\":{\"id\":\"c7000278-b6f2-4253-bf6a-fb423bbd0d79\",\"subtype\":\"Figure\",\"type\":\"Plot\"},\"ticker\":{\"id\":\"30905753-f5ba-48e3-a9f0-205602757b49\",\"type\":\"BasicTicker\"}},\"id\":\"59cf4725-f5a2-4982-ae01-964c4a171813\",\"type\":\"LinearAxis\"},{\"attributes\":{},\"id\":\"f3948d62-6e3e-4b01-a4fb-cc2f3540097c\",\"type\":\"BasicTicker\"},{\"attributes\":{\"above\":[{\"id\":\"7be3700a-c727-4cfa-9b09-840773b83825\",\"type\":\"LinearAxis\"}],\"left\":[{\"id\":\"59cf4725-f5a2-4982-ae01-964c4a171813\",\"type\":\"LinearAxis\"}],\"renderers\":[{\"id\":\"7be3700a-c727-4cfa-9b09-840773b83825\",\"type\":\"LinearAxis\"},{\"id\":\"1cdab219-a2b8-43e4-b287-6e1d7ce17c1f\",\"type\":\"Grid\"},{\"id\":\"59cf4725-f5a2-4982-ae01-964c4a171813\",\"type\":\"LinearAxis\"},{\"id\":\"55888bc5-1a17-481c-b0d3-1db6a770ae0a\",\"type\":\"Grid\"},{\"id\":\"514976bb-961d-49d7-a209-3091979776ee\",\"type\":\"BoxAnnotation\"},{\"id\":\"dbf4a1fd-a533-47d3-a15e-db3636d8f036\",\"type\":\"GlyphRenderer\"},{\"id\":\"1b64c21c-8308-4839-ba47-5fe2ed2316d5\",\"type\":\"GlyphRenderer\"}],\"title\":{\"id\":\"a42633d3-6f6d-48d1-868a-4698182939bd\",\"type\":\"Title\"},\"tool_events\":{\"id\":\"bcfac477-3c57-42e4-b38e-778f236e182d\",\"type\":\"ToolEvents\"},\"toolbar\":{\"id\":\"cc5c02a6-3dbb-46e6-b1e8-475574b7c6b1\",\"type\":\"Toolbar\"},\"toolbar_location\":null,\"x_range\":{\"id\":\"823e083e-9d09-447d-bd1a-7dbe782b614d\",\"type\":\"Range1d\"},\"x_scale\":{\"id\":\"b0fa73d3-420d-4f38-b76b-c176a2dc2827\",\"type\":\"LinearScale\"},\"y_range\":{\"id\":\"0e233739-1009-439f-bbb4-024ce55223db\",\"type\":\"Range1d\"},\"y_scale\":{\"id\":\"805222db-075f-4e6d-86da-d28efd401b72\",\"type\":\"LinearScale\"}},\"id\":\"c7000278-b6f2-4253-bf6a-fb423bbd0d79\",\"subtype\":\"Figure\",\"type\":\"Plot\"},{\"attributes\":{\"active_drag\":\"auto\",\"active_inspect\":\"auto\",\"active_scroll\":\"auto\",\"active_tap\":\"auto\",\"tools\":[{\"id\":\"4a381f58-aaef-4e8c-8f20-2369ded8e0a7\",\"type\":\"PanTool\"},{\"id\":\"353d0b82-b734-489a-9b19-143a5f411551\",\"type\":\"WheelZoomTool\"},{\"id\":\"8944651c-59e4-4408-b21c-524a6ac7e171\",\"type\":\"BoxZoomTool\"},{\"id\":\"7fdcba84-3ec4-443b-8109-91692d241493\",\"type\":\"SaveTool\"},{\"id\":\"aaabbf66-dd58-4889-bd92-bc33d0f81803\",\"type\":\"ResetTool\"},{\"id\":\"9e3d3091-4c67-4f1f-9601-331a6094f21c\",\"type\":\"HelpTool\"}]},\"id\":\"cc5c02a6-3dbb-46e6-b1e8-475574b7c6b1\",\"type\":\"Toolbar\"},{\"attributes\":{},\"id\":\"805222db-075f-4e6d-86da-d28efd401b72\",\"type\":\"LinearScale\"},{\"attributes\":{\"line_alpha\":{\"value\":0.1},\"line_color\":{\"value\":\"#1f77b4\"},\"line_width\":{\"value\":2},\"x\":{\"field\":\"x\"},\"y\":{\"field\":\"y\"}},\"id\":\"1306a522-7ef1-47a1-a0d8-1cb4273efc7a\",\"type\":\"Line\"},{\"attributes\":{\"sizing_mode\":\"scale_width\",\"toolbar_location\":\"above\",\"tools\":[{\"id\":\"4a381f58-aaef-4e8c-8f20-2369ded8e0a7\",\"type\":\"PanTool\"},{\"id\":\"353d0b82-b734-489a-9b19-143a5f411551\",\"type\":\"WheelZoomTool\"},{\"id\":\"8944651c-59e4-4408-b21c-524a6ac7e171\",\"type\":\"BoxZoomTool\"},{\"id\":\"7fdcba84-3ec4-443b-8109-91692d241493\",\"type\":\"SaveTool\"},{\"id\":\"aaabbf66-dd58-4889-bd92-bc33d0f81803\",\"type\":\"ResetTool\"},{\"id\":\"9e3d3091-4c67-4f1f-9601-331a6094f21c\",\"type\":\"HelpTool\"},{\"id\":\"a3b5e9cb-f241-40e7-bb32-c23090b0bef7\",\"type\":\"PanTool\"},{\"id\":\"c6782490-ba39-462e-b7ec-fdfa55407ccd\",\"type\":\"WheelZoomTool\"},{\"id\":\"5f4f82c8-18a6-4063-bbf8-52ecd3f8e3f4\",\"type\":\"BoxZoomTool\"},{\"id\":\"e894dac0-087e-4444-bddd-6a76114289d5\",\"type\":\"SaveTool\"},{\"id\":\"970b5ab5-49c6-4727-be34-13dab9726c30\",\"type\":\"ResetTool\"},{\"id\":\"f302368a-4d45-42d1-8a39-94cca2256335\",\"type\":\"HelpTool\"}]},\"id\":\"0ec79e10-09ab-4ea4-b7bc-a4e169c69169\",\"type\":\"ToolbarBox\"},{\"attributes\":{\"bottom_units\":\"screen\",\"fill_alpha\":{\"value\":0.5},\"fill_color\":{\"value\":\"lightgrey\"},\"left_units\":\"screen\",\"level\":\"overlay\",\"line_alpha\":{\"value\":1.0},\"line_color\":{\"value\":\"black\"},\"line_dash\":[4,4],\"line_width\":{\"value\":2},\"plot\":null,\"render_mode\":\"css\",\"right_units\":\"screen\",\"top_units\":\"screen\"},\"id\":\"514976bb-961d-49d7-a209-3091979776ee\",\"type\":\"BoxAnnotation\"},{\"attributes\":{\"formatter\":{\"id\":\"e0d4ff95-5d22-4c50-9efc-280f0afdfac3\",\"type\":\"BasicTickFormatter\"},\"plot\":{\"id\":\"c7000278-b6f2-4253-bf6a-fb423bbd0d79\",\"subtype\":\"Figure\",\"type\":\"Plot\"},\"ticker\":{\"id\":\"229e204c-a230-49e0-ae36-aae89f45f532\",\"type\":\"BasicTicker\"}},\"id\":\"7be3700a-c727-4cfa-9b09-840773b83825\",\"type\":\"LinearAxis\"},{\"attributes\":{\"callback\":null,\"column_names\":[\"x\",\"y\"],\"data\":{\"x\":[1],\"y\":[0]}},\"id\":\"93d69577-b3df-409c-98aa-f94564d7799c\",\"type\":\"ColumnDataSource\"},{\"attributes\":{\"plot\":{\"id\":\"c7000278-b6f2-4253-bf6a-fb423bbd0d79\",\"subtype\":\"Figure\",\"type\":\"Plot\"}},\"id\":\"4a381f58-aaef-4e8c-8f20-2369ded8e0a7\",\"type\":\"PanTool\"},{\"attributes\":{\"callback\":null},\"id\":\"50086fd1-6a1f-47f1-9c1c-eac5cc70a03b\",\"type\":\"DataRange1d\"},{\"attributes\":{\"plot\":{\"id\":\"f8f1bd5b-4ba4-4a06-9e54-145fe93745a2\",\"subtype\":\"Figure\",\"type\":\"Plot\"}},\"id\":\"970b5ab5-49c6-4727-be34-13dab9726c30\",\"type\":\"ResetTool\"},{\"attributes\":{\"plot\":{\"id\":\"c7000278-b6f2-4253-bf6a-fb423bbd0d79\",\"subtype\":\"Figure\",\"type\":\"Plot\"}},\"id\":\"7fdcba84-3ec4-443b-8109-91692d241493\",\"type\":\"SaveTool\"},{\"attributes\":{},\"id\":\"30905753-f5ba-48e3-a9f0-205602757b49\",\"type\":\"BasicTicker\"},{\"attributes\":{\"fill_alpha\":{\"value\":0.6},\"fill_color\":{\"field\":\"fill_color\"},\"line_color\":{\"value\":\"gold\"},\"line_width\":{\"field\":\"line_width\"},\"radius\":{\"field\":\"radius\",\"units\":\"data\"},\"x\":{\"field\":\"x\"},\"y\":{\"field\":\"y\"}},\"id\":\"ecc049f2-ca9e-4540-99b2-19ca9273aa99\",\"type\":\"Circle\"},{\"attributes\":{\"below\":[{\"id\":\"d6210d73-d9b1-4eb1-8d2e-668f2ea319fd\",\"type\":\"LinearAxis\"}],\"left\":[{\"id\":\"f23ab148-2824-4ca9-a9ef-560a407dfbc2\",\"type\":\"LinearAxis\"}],\"plot_height\":400,\"plot_width\":400,\"renderers\":[{\"id\":\"d6210d73-d9b1-4eb1-8d2e-668f2ea319fd\",\"type\":\"LinearAxis\"},{\"id\":\"ba4813cb-62eb-4114-a2a2-d1adf8c6dc2f\",\"type\":\"Grid\"},{\"id\":\"f23ab148-2824-4ca9-a9ef-560a407dfbc2\",\"type\":\"LinearAxis\"},{\"id\":\"6854c54f-3cce-4c8c-b2e2-b8e760e89289\",\"type\":\"Grid\"},{\"id\":\"72235cd6-e553-48eb-874c-f9d4491283af\",\"type\":\"BoxAnnotation\"},{\"id\":\"01a427df-4e1a-44dd-8c61-cf9715c30db8\",\"type\":\"GlyphRenderer\"}],\"title\":{\"id\":\"bc104d32-601b-4251-9204-734d0b18f85f\",\"type\":\"Title\"},\"tool_events\":{\"id\":\"0b9664fd-38ec-470a-a222-374f2bb66f41\",\"type\":\"ToolEvents\"},\"toolbar\":{\"id\":\"6850e33c-2385-4021-9458-5375e74a917d\",\"type\":\"Toolbar\"},\"toolbar_location\":null,\"x_range\":{\"id\":\"268b65f1-2bca-4e8a-9792-497a9f41da90\",\"type\":\"DataRange1d\"},\"x_scale\":{\"id\":\"36187e2b-b64d-4c75-9215-df902667ca25\",\"type\":\"LinearScale\"},\"y_range\":{\"id\":\"50086fd1-6a1f-47f1-9c1c-eac5cc70a03b\",\"type\":\"DataRange1d\"},\"y_scale\":{\"id\":\"8a98adc7-b353-409e-8157-f4e2f81193b6\",\"type\":\"LinearScale\"}},\"id\":\"f8f1bd5b-4ba4-4a06-9e54-145fe93745a2\",\"subtype\":\"Figure\",\"type\":\"Plot\"},{\"attributes\":{\"dimension\":1,\"plot\":{\"id\":\"f8f1bd5b-4ba4-4a06-9e54-145fe93745a2\",\"subtype\":\"Figure\",\"type\":\"Plot\"},\"ticker\":{\"id\":\"c4b16e41-8022-48ae-a9af-61d7f4c1d567\",\"type\":\"BasicTicker\"}},\"id\":\"6854c54f-3cce-4c8c-b2e2-b8e760e89289\",\"type\":\"Grid\"},{\"attributes\":{\"fill_alpha\":{\"value\":0.1},\"fill_color\":{\"value\":\"#1f77b4\"},\"line_alpha\":{\"value\":0.1},\"line_color\":{\"value\":\"#1f77b4\"},\"line_width\":{\"field\":\"line_width\"},\"radius\":{\"field\":\"radius\",\"units\":\"data\"},\"x\":{\"field\":\"x\"},\"y\":{\"field\":\"y\"}},\"id\":\"b43621d7-5601-473a-aa34-8a123a8b239b\",\"type\":\"Circle\"},{\"attributes\":{\"align\":\"center\",\"background_fill_color\":{\"value\":\"blue\"},\"plot\":null,\"text\":\"step #0\",\"text_color\":{\"value\":\"orange\"},\"text_font_size\":{\"value\":\"25px\"}},\"id\":\"a42633d3-6f6d-48d1-868a-4698182939bd\",\"type\":\"Title\"},{\"attributes\":{},\"id\":\"b0fa73d3-420d-4f38-b76b-c176a2dc2827\",\"type\":\"LinearScale\"},{\"attributes\":{},\"id\":\"36187e2b-b64d-4c75-9215-df902667ca25\",\"type\":\"LinearScale\"},{\"attributes\":{\"plot\":{\"id\":\"f8f1bd5b-4ba4-4a06-9e54-145fe93745a2\",\"subtype\":\"Figure\",\"type\":\"Plot\"}},\"id\":\"e894dac0-087e-4444-bddd-6a76114289d5\",\"type\":\"SaveTool\"}],\"root_ids\":[\"83a01efd-e18c-4dae-80b8-aef0b14bb7d5\"]},\"title\":\"Bokeh Application\",\"version\":\"0.12.6\"}};\n",
       "            var render_items = [{\"docid\":\"b609b779-d625-4265-a992-a89d246244de\",\"elementid\":\"ccde7bdc-31e4-4aa7-94b9-f0f0232d7eb0\",\"modelid\":\"83a01efd-e18c-4dae-80b8-aef0b14bb7d5\",\"notebook_comms_target\":\"63fb13df-9bcb-42d0-961c-0ba084d19828\"}];\n",
       "            \n",
       "            Bokeh.embed.embed_items(docs_json, render_items);\n",
       "          };\n",
       "          if (document.readyState != \"loading\") fn();\n",
       "          else document.addEventListener(\"DOMContentLoaded\", fn);\n",
       "        })();\n",
       "      },\n",
       "      function(Bokeh) {\n",
       "      }\n",
       "    ];\n",
       "  \n",
       "    function run_inline_js() {\n",
       "      \n",
       "      if ((window.Bokeh !== undefined) || (force === true)) {\n",
       "        for (var i = 0; i < inline_js.length; i++) {\n",
       "          inline_js[i](window.Bokeh);\n",
       "        }if (force === true) {\n",
       "          display_loaded();\n",
       "        }} else if (Date.now() < window._bokeh_timeout) {\n",
       "        setTimeout(run_inline_js, 100);\n",
       "      } else if (!window._bokeh_failed_load) {\n",
       "        console.log(\"Bokeh: BokehJS failed to load within specified timeout.\");\n",
       "        window._bokeh_failed_load = true;\n",
       "      } else if (force !== true) {\n",
       "        var cell = $(document.getElementById(\"ccde7bdc-31e4-4aa7-94b9-f0f0232d7eb0\")).parents('.cell').data().cell;\n",
       "        cell.output_area.append_execute_result(NB_LOAD_WARNING)\n",
       "      }\n",
       "  \n",
       "    }\n",
       "  \n",
       "    if (window._bokeh_is_loading === 0) {\n",
       "      console.log(\"Bokeh: BokehJS loaded, going straight to plotting\");\n",
       "      run_inline_js();\n",
       "    } else {\n",
       "      load_libs(js_urls, function() {\n",
       "        console.log(\"Bokeh: BokehJS plotting callback run at\", now());\n",
       "        run_inline_js();\n",
       "      });\n",
       "    }\n",
       "  }(this));\n",
       "</script>"
      ]
     },
     "metadata": {},
     "output_type": "execute_result"
    },
    {
     "name": "stdout",
     "output_type": "stream",
     "text": [
      "end\n"
     ]
    }
   ],
   "source": [
    "import man_record\n",
    "man_record.replay(True)"
   ]
  }
 ],
 "metadata": {
  "kernelspec": {
   "display_name": "Python 3",
   "language": "python",
   "name": "python3"
  },
  "language_info": {
   "codemirror_mode": {
    "name": "ipython",
    "version": 3.0
   },
   "file_extension": ".py",
   "mimetype": "text/x-python",
   "name": "python",
   "nbconvert_exporter": "python",
   "pygments_lexer": "ipython3",
   "version": "3.5.3"
  }
 },
 "nbformat": 4,
 "nbformat_minor": 0
}